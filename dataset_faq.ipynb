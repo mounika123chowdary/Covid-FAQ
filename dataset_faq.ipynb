{
  "nbformat": 4,
  "nbformat_minor": 0,
  "metadata": {
    "colab": {
      "name": "dataset-faq.ipynb",
      "provenance": [],
      "collapsed_sections": []
    },
    "kernelspec": {
      "name": "python3",
      "display_name": "Python 3"
    }
  },
  "cells": [
    {
      "cell_type": "code",
      "metadata": {
        "id": "Gn7KHtKr5nW1",
        "colab_type": "code",
        "colab": {
          "base_uri": "https://localhost:8080/",
          "height": 204
        },
        "outputId": "1095beca-3483-41ce-f7df-86f33962c47d"
      },
      "source": [
        "import pandas as pd\n",
        "pd.set_option('max_colwidth',100)\n",
        "dataset=pd.read_excel(\"dataset.xlsx\",encoding='utf8')\n",
        "dataset.head()\n"
      ],
      "execution_count": 3,
      "outputs": [
        {
          "output_type": "execute_result",
          "data": {
            "text/html": [
              "<div>\n",
              "<style scoped>\n",
              "    .dataframe tbody tr th:only-of-type {\n",
              "        vertical-align: middle;\n",
              "    }\n",
              "\n",
              "    .dataframe tbody tr th {\n",
              "        vertical-align: top;\n",
              "    }\n",
              "\n",
              "    .dataframe thead th {\n",
              "        text-align: right;\n",
              "    }\n",
              "</style>\n",
              "<table border=\"1\" class=\"dataframe\">\n",
              "  <thead>\n",
              "    <tr style=\"text-align: right;\">\n",
              "      <th></th>\n",
              "      <th>Question</th>\n",
              "      <th>Answer</th>\n",
              "    </tr>\n",
              "  </thead>\n",
              "  <tbody>\n",
              "    <tr>\n",
              "      <th>0</th>\n",
              "      <td>Is there anything I should not do?</td>\n",
              "      <td>The following measures ARE NOT effective against COVID-2019 and can be harmful:SmokingWearing mu...</td>\n",
              "    </tr>\n",
              "    <tr>\n",
              "      <th>1</th>\n",
              "      <td>How does COVID-19 spread?</td>\n",
              "      <td>People can catch COVID-19 from others who have the virus. The disease can spread from person to ...</td>\n",
              "    </tr>\n",
              "    <tr>\n",
              "      <th>2</th>\n",
              "      <td>Is COVID-19 the same as SARS?</td>\n",
              "      <td>No. The virus that causes COVID-19 and the one that caused the outbreak of Severe Acute Respirat...</td>\n",
              "    </tr>\n",
              "    <tr>\n",
              "      <th>3</th>\n",
              "      <td>What is COVID-19?</td>\n",
              "      <td>COVID-19 is the infectious disease caused by the most recently discovered coronavirus. This new ...</td>\n",
              "    </tr>\n",
              "    <tr>\n",
              "      <th>4</th>\n",
              "      <td>Is COVID-19 airborne?</td>\n",
              "      <td>The virus that causes COVID-19 is mainly transmitted through droplets generated when an infected...</td>\n",
              "    </tr>\n",
              "  </tbody>\n",
              "</table>\n",
              "</div>"
            ],
            "text/plain": [
              "                             Question                                                                                               Answer\n",
              "0  Is there anything I should not do?  The following measures ARE NOT effective against COVID-2019 and can be harmful:SmokingWearing mu...\n",
              "1           How does COVID-19 spread?  People can catch COVID-19 from others who have the virus. The disease can spread from person to ...\n",
              "2       Is COVID-19 the same as SARS?  No. The virus that causes COVID-19 and the one that caused the outbreak of Severe Acute Respirat...\n",
              "3                   What is COVID-19?  COVID-19 is the infectious disease caused by the most recently discovered coronavirus. This new ...\n",
              "4               Is COVID-19 airborne?  The virus that causes COVID-19 is mainly transmitted through droplets generated when an infected..."
            ]
          },
          "metadata": {
            "tags": []
          },
          "execution_count": 3
        }
      ]
    },
    {
      "cell_type": "code",
      "metadata": {
        "id": "vBSBa0Dt5Z5V",
        "colab_type": "code",
        "colab": {}
      },
      "source": [
        "import numpy as np\n",
        "import nltk\n",
        "import re\n",
        "import pandas as pd\n",
        "import pickle\n",
        "import tensorflow as tf\n",
        "import tensorflow_hub as hub\n",
        "import numpy as np\n",
        "\n",
        "module_url = \"https://tfhub.dev/google/universal-sentence-encoder/4\"\n",
        "model = hub.load(module_url)\n",
        "def embed(input):\n",
        "  return model([input])\n",
        "dataset['Question_Vector'] = dataset.Question.map(embed)\n",
        "dataset['Question_Vector'] = dataset.Question_Vector.map(np.array)\n",
        "db=open('dataset.pkl','wb')\n",
        "pickle.dump(dataset,db)\n",
        "db.close()"
      ],
      "execution_count": 4,
      "outputs": []
    },
    {
      "cell_type": "code",
      "metadata": {
        "id": "3rLLtZL_5Z98",
        "colab_type": "code",
        "colab": {
          "base_uri": "https://localhost:8080/",
          "height": 275
        },
        "outputId": "9f4ba432-9f53-43df-ce23-406200eca2e5"
      },
      "source": [
        "dbfile=open('dataset.pkl','rb')\n",
        "db=pickle.load(dbfile)\n",
        "print(db)"
      ],
      "execution_count": 5,
      "outputs": [
        {
          "output_type": "stream",
          "text": [
            "                                                                                                 Question  ...                                                                                      Question_Vector\n",
            "0                                                                      Is there anything I should not do?  ...  [[-0.06500809, -0.002892293, 0.011172992, -0.058420137, 0.054473944, -0.031006416, -0.014685082,...\n",
            "1                                                                               How does COVID-19 spread?  ...  [[-0.04379832, -0.0020756903, 0.023314437, -0.052396975, 0.03956608, 0.042124603, -0.013376504, ...\n",
            "2                                                                           Is COVID-19 the same as SARS?  ...  [[-0.06912922, 0.009651106, 0.038616657, 0.03460772, 0.0510526, 0.041957777, 0.07246931, -0.0640...\n",
            "3                                                                                       What is COVID-19?  ...  [[-0.10286495, -0.017201792, 0.06691385, 0.045696627, 0.028686307, 0.044771098, -0.002952879, -0...\n",
            "4                                                                                   Is COVID-19 airborne?  ...  [[-0.07452212, 0.017549204, 0.060024723, -0.016357003, 0.01389938, 0.052636664, 0.05478956, -0.0...\n",
            "...                                                                                                   ...  ...                                                                                                  ...\n",
            "1301                                              How can I apply for a Canadian visit visa as a refugee?  ...  [[-0.06857584, -0.07604535, 0.061181337, 0.048016787, 0.005030503, -0.0047614966, 0.023368634, -...\n",
            "1302  Insurance company not paying out my curtailment claim for UK citizen returning from France on 16...  ...  [[-0.09076444, -0.08110501, -0.03490631, -0.024339639, 0.03706812, -0.056103878, -0.06473718, -0...\n",
            "1303  Can I cancel a flight because of COVID-19 and use the voucher for same time and flight cheaper t...  ...  [[-0.02207322, -0.07734281, 0.07032166, 0.03788875, 0.055278543, -0.043685686, 0.008941526, -0.0...\n",
            "1304                                      Is it possible to extend the 14-day visa free entry in Vietnam?  ...  [[-0.06576131, -0.0779644, 0.08131574, 0.0006124832, -0.016165877, -0.0023337558, 0.026894437, -...\n",
            "1305                                                         Who is at risk of developing severe illness?  ...  [[0.055135425, 0.005139616, 0.050543763, -0.043201894, -0.031097433, 0.028050903, 0.011669047, -...\n",
            "\n",
            "[1306 rows x 3 columns]\n"
          ],
          "name": "stdout"
        }
      ]
    },
    {
      "cell_type": "code",
      "metadata": {
        "id": "1tNlF89i7eBr",
        "colab_type": "code",
        "colab": {
          "base_uri": "https://localhost:8080/",
          "height": 275
        },
        "outputId": "9ec4c62b-7781-44e6-82c4-3678f12ef214"
      },
      "source": [
        "print(db)"
      ],
      "execution_count": 6,
      "outputs": [
        {
          "output_type": "stream",
          "text": [
            "                                                                                                 Question  ...                                                                                      Question_Vector\n",
            "0                                                                      Is there anything I should not do?  ...  [[-0.06500809, -0.002892293, 0.011172992, -0.058420137, 0.054473944, -0.031006416, -0.014685082,...\n",
            "1                                                                               How does COVID-19 spread?  ...  [[-0.04379832, -0.0020756903, 0.023314437, -0.052396975, 0.03956608, 0.042124603, -0.013376504, ...\n",
            "2                                                                           Is COVID-19 the same as SARS?  ...  [[-0.06912922, 0.009651106, 0.038616657, 0.03460772, 0.0510526, 0.041957777, 0.07246931, -0.0640...\n",
            "3                                                                                       What is COVID-19?  ...  [[-0.10286495, -0.017201792, 0.06691385, 0.045696627, 0.028686307, 0.044771098, -0.002952879, -0...\n",
            "4                                                                                   Is COVID-19 airborne?  ...  [[-0.07452212, 0.017549204, 0.060024723, -0.016357003, 0.01389938, 0.052636664, 0.05478956, -0.0...\n",
            "...                                                                                                   ...  ...                                                                                                  ...\n",
            "1301                                              How can I apply for a Canadian visit visa as a refugee?  ...  [[-0.06857584, -0.07604535, 0.061181337, 0.048016787, 0.005030503, -0.0047614966, 0.023368634, -...\n",
            "1302  Insurance company not paying out my curtailment claim for UK citizen returning from France on 16...  ...  [[-0.09076444, -0.08110501, -0.03490631, -0.024339639, 0.03706812, -0.056103878, -0.06473718, -0...\n",
            "1303  Can I cancel a flight because of COVID-19 and use the voucher for same time and flight cheaper t...  ...  [[-0.02207322, -0.07734281, 0.07032166, 0.03788875, 0.055278543, -0.043685686, 0.008941526, -0.0...\n",
            "1304                                      Is it possible to extend the 14-day visa free entry in Vietnam?  ...  [[-0.06576131, -0.0779644, 0.08131574, 0.0006124832, -0.016165877, -0.0023337558, 0.026894437, -...\n",
            "1305                                                         Who is at risk of developing severe illness?  ...  [[0.055135425, 0.005139616, 0.050543763, -0.043201894, -0.031097433, 0.028050903, 0.011669047, -...\n",
            "\n",
            "[1306 rows x 3 columns]\n"
          ],
          "name": "stdout"
        }
      ]
    }
  ]
}